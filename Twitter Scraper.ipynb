{
 "cells": [
  {
   "cell_type": "markdown",
   "id": "2cff7776",
   "metadata": {},
   "source": [
    "# Twitter Scrapper --- This scrapper requires user's credentials for login"
   ]
  },
  {
   "cell_type": "code",
   "execution_count": 32,
   "id": "071ecf6e",
   "metadata": {},
   "outputs": [],
   "source": [
    "# import required libraries\n",
    "import csv\n",
    "import re\n",
    "from getpass import getpass\n",
    "from time import sleep\n",
    "from selenium.webdriver.common.keys import Keys\n",
    "from selenium.common.exceptions import NoSuchElementException, StaleElementReferenceException\n",
    "from selenium.webdriver import Chrome"
   ]
  },
  {
   "cell_type": "code",
   "execution_count": 33,
   "id": "9d588d16",
   "metadata": {},
   "outputs": [],
   "source": [
    "driver = Chrome() # selenium webdriver instant"
   ]
  },
  {
   "cell_type": "code",
   "execution_count": 34,
   "id": "6ca852ed",
   "metadata": {},
   "outputs": [],
   "source": [
    "driver.get('https://www.twitter.com/login') # login page instance"
   ]
  },
  {
   "cell_type": "code",
   "execution_count": 35,
   "id": "0b9aa57c",
   "metadata": {},
   "outputs": [],
   "source": [
    "# This code contains user's username already\n",
    "username = driver.find_element_by_xpath('//input[@name=\"text\"]')\n",
    "username.send_keys('@gk_woode') # username can be changed from this line of code\n",
    "username.send_keys(Keys.RETURN)"
   ]
  },
  {
   "cell_type": "code",
   "execution_count": 36,
   "id": "c2ab378c",
   "metadata": {},
   "outputs": [
    {
     "name": "stdout",
     "output_type": "stream",
     "text": [
      "········\n"
     ]
    }
   ],
   "source": [
    "my_password = getpass() # password instance"
   ]
  },
  {
   "cell_type": "code",
   "execution_count": 37,
   "id": "7271bfaa",
   "metadata": {},
   "outputs": [],
   "source": [
    "# This code picks user's entered password to login\n",
    "password = driver.find_element_by_xpath('//input[@name=\"password\"]')\n",
    "password.send_keys(my_password)\n",
    "password.send_keys(Keys.RETURN)"
   ]
  },
  {
   "cell_type": "code",
   "execution_count": 38,
   "id": "85cd2933",
   "metadata": {},
   "outputs": [],
   "source": [
    "# Code searches for particular tweet ||| but here it searches for tweets on ghanacard\n",
    "search_input = driver.find_element_by_xpath('//input[@aria-label=\"Search query\"]')\n",
    "search_input.send_keys('#ghanacard') # tweet can be changed from this line of code"
   ]
  },
  {
   "cell_type": "code",
   "execution_count": 39,
   "id": "6d1be33c",
   "metadata": {},
   "outputs": [],
   "source": [
    "search_input.send_keys(Keys.RETURN)"
   ]
  },
  {
   "cell_type": "code",
   "execution_count": 40,
   "id": "61ed2f4c",
   "metadata": {},
   "outputs": [],
   "source": [
    "driver.find_element_by_link_text('Latest').click()"
   ]
  },
  {
   "cell_type": "code",
   "execution_count": 41,
   "id": "ac408eaf",
   "metadata": {},
   "outputs": [],
   "source": [
    "cards = driver.find_elements_by_xpath('//article[@data-testid=\"tweet\"]')"
   ]
  },
  {
   "cell_type": "code",
   "execution_count": 42,
   "id": "a22efd24",
   "metadata": {},
   "outputs": [],
   "source": [
    "card = cards[0]"
   ]
  },
  {
   "cell_type": "code",
   "execution_count": 43,
   "id": "59912c9b",
   "metadata": {},
   "outputs": [
    {
     "data": {
      "text/plain": [
       "'Martin Asiedu-Dartey'"
      ]
     },
     "execution_count": 43,
     "metadata": {},
     "output_type": "execute_result"
    }
   ],
   "source": [
    "#username\n",
    "card.find_element_by_xpath('.//span').text"
   ]
  },
  {
   "cell_type": "code",
   "execution_count": 44,
   "id": "75a01366",
   "metadata": {},
   "outputs": [
    {
     "data": {
      "text/plain": [
       "'@NewsyMartin'"
      ]
     },
     "execution_count": 44,
     "metadata": {},
     "output_type": "execute_result"
    }
   ],
   "source": [
    "#handle\n",
    "card.find_element_by_xpath('.//span[contains(text(), \"@\")]').text"
   ]
  },
  {
   "cell_type": "code",
   "execution_count": 45,
   "id": "a851bef7",
   "metadata": {},
   "outputs": [
    {
     "data": {
      "text/plain": [
       "'2022-02-22T17:23:32.000Z'"
      ]
     },
     "execution_count": 45,
     "metadata": {},
     "output_type": "execute_result"
    }
   ],
   "source": [
    "#date posted\n",
    "card.find_element_by_xpath('.//time').get_attribute('datetime')"
   ]
  },
  {
   "cell_type": "code",
   "execution_count": 46,
   "id": "18009a0a",
   "metadata": {},
   "outputs": [
    {
     "data": {
      "text/plain": [
       "\"Martin Asiedu-Dartey\\n@NewsyMartin\\n·\\n17hFinally, I've got my Ghana Card . Have you got yours yet?\\n#GhanaCard \\n2\\n1\\n6\""
      ]
     },
     "execution_count": 46,
     "metadata": {},
     "output_type": "execute_result"
    }
   ],
   "source": [
    "#tweet\n",
    "comment = card.find_element_by_xpath('.//div[2]/div[2]/div[1]').text\n",
    "responds = card.find_element_by_xpath('.//div[2]/div[2]/div[2]').text\n",
    "comment + responds"
   ]
  },
  {
   "cell_type": "code",
   "execution_count": 47,
   "id": "b75cb7e6",
   "metadata": {},
   "outputs": [
    {
     "data": {
      "text/plain": [
       "'2'"
      ]
     },
     "execution_count": 47,
     "metadata": {},
     "output_type": "execute_result"
    }
   ],
   "source": [
    "#replies\n",
    "card.find_element_by_xpath('.//div[@data-testid=\"reply\"]').text"
   ]
  },
  {
   "cell_type": "code",
   "execution_count": 48,
   "id": "85357d73",
   "metadata": {},
   "outputs": [
    {
     "data": {
      "text/plain": [
       "'1'"
      ]
     },
     "execution_count": 48,
     "metadata": {},
     "output_type": "execute_result"
    }
   ],
   "source": [
    "#retweets\n",
    "card.find_element_by_xpath('.//div[@data-testid=\"retweet\"]').text"
   ]
  },
  {
   "cell_type": "code",
   "execution_count": 49,
   "id": "88cddc67",
   "metadata": {},
   "outputs": [
    {
     "data": {
      "text/plain": [
       "'6'"
      ]
     },
     "execution_count": 49,
     "metadata": {},
     "output_type": "execute_result"
    }
   ],
   "source": [
    "#likes\n",
    "card.find_element_by_xpath('.//div[@data-testid=\"like\"]').text"
   ]
  },
  {
   "cell_type": "code",
   "execution_count": 50,
   "id": "5fd0b291",
   "metadata": {},
   "outputs": [],
   "source": [
    "#define function\n",
    "# Function to extract data from tweet card\n",
    "\n",
    "def get_tweet_data(card):\n",
    "    username = card.find_element_by_xpath('.//span').text\n",
    "    handle = card.find_element_by_xpath('.//span[contains(text(), \"@\")]').text\n",
    "#     try:\n",
    "#         handle = card.find_element_by_xpath('.//span[contains(text(), \"@\")]').text\n",
    "#     except NoSuchElementException:\n",
    "#         return\n",
    "    \n",
    "    try:\n",
    "        postdate = card.find_element_by_xpath('.//time').get_attribute('datetime')\n",
    "    except NoSuchElementException:\n",
    "        return\n",
    "    \n",
    "    comment = card.find_element_by_xpath('.//div[2]/div[2]/div[1]').text\n",
    "    responds = card.find_element_by_xpath('.//div[2]/div[2]/div[2]').text\n",
    "    text = comment + responds\n",
    "    reply_cnt = card.find_element_by_xpath('.//div[@data-testid=\"reply\"]').text\n",
    "    retweet_cnt = card.find_element_by_xpath('.//div[@data-testid=\"retweet\"]').text\n",
    "    like_cnt = card.find_element_by_xpath('.//div[@data-testid=\"like\"]').text\n",
    "\n",
    "    \n",
    "    tweet = (username, handle, postdate, text, reply_cnt, retweet_cnt, like_cnt)\n",
    "    return tweet"
   ]
  },
  {
   "cell_type": "code",
   "execution_count": 51,
   "id": "2c2513ff",
   "metadata": {},
   "outputs": [
    {
     "data": {
      "text/plain": [
       "('Martin Asiedu-Dartey',\n",
       " '@NewsyMartin',\n",
       " '2022-02-22T17:23:32.000Z',\n",
       " \"Martin Asiedu-Dartey\\n@NewsyMartin\\n·\\n17hFinally, I've got my Ghana Card . Have you got yours yet?\\n#GhanaCard \\n2\\n1\\n6\",\n",
       " '2',\n",
       " '1',\n",
       " '6')"
      ]
     },
     "execution_count": 51,
     "metadata": {},
     "output_type": "execute_result"
    }
   ],
   "source": [
    "get_tweet_data(card)"
   ]
  },
  {
   "cell_type": "code",
   "execution_count": 52,
   "id": "d60416d7",
   "metadata": {},
   "outputs": [],
   "source": [
    "tweet_data = []\n",
    "\n",
    "# cards = driver.find_elements_by_xpath('//article[@data-testid=\"tweet\"]')\n",
    "for card in cards:\n",
    "    data = get_tweet_data(card)\n",
    "    if data:\n",
    "        tweet_data.append(data)"
   ]
  },
  {
   "cell_type": "code",
   "execution_count": 53,
   "id": "87a8346b",
   "metadata": {},
   "outputs": [
    {
     "data": {
      "text/plain": [
       "('Martin Asiedu-Dartey',\n",
       " '@NewsyMartin',\n",
       " '2022-02-22T17:23:32.000Z',\n",
       " \"Martin Asiedu-Dartey\\n@NewsyMartin\\n·\\n17hFinally, I've got my Ghana Card . Have you got yours yet?\\n#GhanaCard \\n2\\n1\\n6\",\n",
       " '2',\n",
       " '1',\n",
       " '6')"
      ]
     },
     "execution_count": 53,
     "metadata": {},
     "output_type": "execute_result"
    }
   ],
   "source": [
    "tweet_data[0]"
   ]
  },
  {
   "cell_type": "code",
   "execution_count": 54,
   "id": "3fc5df0f",
   "metadata": {},
   "outputs": [],
   "source": [
    "# driver.execute_script('window.scrollTo(0, document.body.scrollHeight);')"
   ]
  },
  {
   "cell_type": "code",
   "execution_count": 55,
   "id": "fd388b4b",
   "metadata": {},
   "outputs": [],
   "source": [
    "# getting tweets on the page\n",
    "data = []\n",
    "tweet_ids = set()\n",
    "last_position = driver.execute_script(\"return window.pageYOffset;\")\n",
    "scrolling = True"
   ]
  },
  {
   "cell_type": "code",
   "execution_count": 56,
   "id": "c2da8241",
   "metadata": {},
   "outputs": [],
   "source": [
    "while scrolling:\n",
    "    page_cards = driver.find_elements_by_xpath('//article[@data-testid=\"tweet\"]')\n",
    "    for card in page_cards[-10:]:\n",
    "        tweet = get_tweet_data(card)\n",
    "        if tweet:\n",
    "            tweet_id = ''.join(tweet)\n",
    "            if tweet_id not in tweet_ids:\n",
    "                tweet_ids.add(tweet_id)\n",
    "                data.append(tweet)\n",
    "                \n",
    "    scroll_attempt = 0\n",
    "    while True:\n",
    "        driver.execute_script('window.scrollTo(0, document.body.scrollHeight);')\n",
    "        sleep(1)\n",
    "        curr_position = driver.execute_script(\"return window.pageYOffset;\")\n",
    "        if last_position == curr_position:\n",
    "            scroll_attempt += 1\n",
    "            if scroll_attempt >= 3:\n",
    "                scrolling = False\n",
    "                break\n",
    "            else:\n",
    "                sleep(2)\n",
    "        else:\n",
    "            last_position = curr_position\n",
    "            break"
   ]
  },
  {
   "cell_type": "code",
   "execution_count": 57,
   "id": "ec34a26c",
   "metadata": {},
   "outputs": [
    {
     "data": {
      "text/plain": [
       "599"
      ]
     },
     "execution_count": 57,
     "metadata": {},
     "output_type": "execute_result"
    }
   ],
   "source": [
    "len(data)"
   ]
  },
  {
   "cell_type": "markdown",
   "id": "4f5a325c",
   "metadata": {},
   "source": [
    "## Save the tweet data"
   ]
  },
  {
   "cell_type": "code",
   "execution_count": 58,
   "id": "897d8d5f",
   "metadata": {},
   "outputs": [],
   "source": [
    "with open('ghanacard.csv', 'w', newline = '', encoding = 'utf-8') as f:\n",
    "    header =['Username', 'Handle', 'Timestamp', 'Comments', 'Likes', 'Retweets', 'Text']\n",
    "    writer = csv.writer(f)\n",
    "    writer.writerow(header)\n",
    "    writer.writerow(data)"
   ]
  },
  {
   "cell_type": "code",
   "execution_count": null,
   "id": "a6e67a51",
   "metadata": {},
   "outputs": [],
   "source": []
  }
 ],
 "metadata": {
  "kernelspec": {
   "display_name": "Python 3",
   "language": "python",
   "name": "python3"
  },
  "language_info": {
   "codemirror_mode": {
    "name": "ipython",
    "version": 3
   },
   "file_extension": ".py",
   "mimetype": "text/x-python",
   "name": "python",
   "nbconvert_exporter": "python",
   "pygments_lexer": "ipython3",
   "version": "3.8.8"
  }
 },
 "nbformat": 4,
 "nbformat_minor": 5
}
